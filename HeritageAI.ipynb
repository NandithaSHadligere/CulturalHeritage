{
 "cells": [
  {
   "cell_type": "markdown",
   "metadata": {
    "colab_type": "text",
    "id": "view-in-github"
   },
   "source": [
    "<a href=\"https://colab.research.google.com/github/ArkS0001/HeritageAI-Generating-Cultural-Heritage-Imagery-with-LLMs/blob/main/HeritageAI.ipynb\" target=\"_parent\"><img src=\"https://colab.research.google.com/assets/colab-badge.svg\" alt=\"Open In Colab\"/></a>"
   ]
  },
  {
   "cell_type": "code",
   "execution_count": null,
   "metadata": {},
   "outputs": [],
   "source": []
  },
  {
   "cell_type": "code",
   "execution_count": null,
   "metadata": {
    "id": "B3T1_OeLgVZj"
   },
   "outputs": [],
   "source": [
    "import torch\n",
    "from diffusers import StableDiffusionPipeline\n",
    "\n",
    "# Load the pre-trained Stable Diffusion model\n",
    "model_id = \"CompVis/stable-diffusion-v1-4\"\n",
    "pipe = StableDiffusionPipeline.from_pretrained(model_id, torch_dtype=torch.float16)\n",
    "pipe = pipe.to(\"cuda\")\n",
    "\n",
    "# Define a function to generate an image from text\n",
    "def generate_image(prompt, num_inference_steps=50, guidance_scale=7.5):\n",
    "    with torch.no_grad():\n",
    "        image = pipe(prompt, num_inference_steps=num_inference_steps, guidance_scale=guidance_scale).images[0]\n",
    "    return image\n",
    "\n",
    "# Example usage\n",
    "prompt = \"Konark temple\"\n",
    "image = generate_image(prompt)\n",
    "\n",
    "# Save the generated image\n",
    "image.save(\"sun_temple.png\")"
   ]
  },
  {
   "cell_type": "markdown",
   "metadata": {
    "id": "KNI5LuS8g6TP"
   },
   "source": [
    "Step 1: Generate Depth Map"
   ]
  },
  {
   "cell_type": "code",
   "execution_count": null,
   "metadata": {
    "id": "I71S2RmHgj51"
   },
   "outputs": [],
   "source": [
    "import torch\n",
    "import cv2\n",
    "import numpy as np\n",
    "from torchvision.transforms import Compose, Resize, ToTensor, Normalize\n",
    "\n",
    "# Load MiDaS model\n",
    "midas_model = torch.hub.load(\"intel-isl/MiDaS\", \"MiDaS_small\")\n",
    "midas_model.eval()\n",
    "midas_model.to(\"cuda\")\n",
    "\n",
    "# Load transforms to prepare the image for the model\n",
    "transform = Compose([\n",
    "    Resize(384),\n",
    "    ToTensor(),\n",
    "    Normalize(mean=[0.485, 0.456, 0.406], std=[0.229, 0.224, 0.225]),\n",
    "])\n",
    "\n",
    "def estimate_depth(image_path):\n",
    "    img = cv2.imread(image_path)\n",
    "    img = cv2.cvtColor(img, cv2.COLOR_BGR2RGB)\n",
    "    img_input = transform(img).unsqueeze(0).to(\"cuda\")\n",
    "\n",
    "    with torch.no_grad():\n",
    "        depth = midas_model(img_input)\n",
    "        depth = depth.squeeze().cpu().numpy()\n",
    "\n",
    "    depth_min = depth.min()\n",
    "    depth_max = depth.max()\n",
    "    depth_normalized = (depth - depth_min) / (depth_max - depth_min)\n",
    "\n",
    "    return depth_normalized\n",
    "\n",
    "# Estimate depth\n",
    "depth_map = estimate_depth(\"sun_temple.png\")\n",
    "cv2.imwrite(\"depth_map.png\", depth_map * 255)"
   ]
  },
  {
   "cell_type": "markdown",
   "metadata": {
    "id": "Vjvhooq3g9G6"
   },
   "source": [
    "Step 2: Create 3D Mesh"
   ]
  },
  {
   "cell_type": "code",
   "execution_count": null,
   "metadata": {
    "id": "otFswaXLgnm_"
   },
   "outputs": [],
   "source": [
    "import open3d as o3d\n",
    "import numpy as np\n",
    "\n",
    "def create_mesh_from_depth_map(depth_map_path, image_path):\n",
    "    depth_map = cv2.imread(depth_map_path, cv2.IMREAD_GRAYSCALE)\n",
    "    image = cv2.imread(image_path)\n",
    "\n",
    "    h, w = depth_map.shape\n",
    "    fx = fy = 1.0\n",
    "    cx, cy = w / 2, h / 2\n",
    "\n",
    "    # Create point cloud\n",
    "    points = []\n",
    "    colors = []\n",
    "    for v in range(h):\n",
    "        for u in range(w):\n",
    "            z = depth_map[v, u] / 255.0\n",
    "            if z > 0:\n",
    "                x = (u - cx) * z / fx\n",
    "                y = (v - cy) * z / fy\n",
    "                points.append([x, y, z])\n",
    "                colors.append(image[v, u] / 255.0)\n",
    "\n",
    "    points = np.array(points)\n",
    "    colors = np.array(colors)\n",
    "\n",
    "    point_cloud = o3d.geometry.PointCloud()\n",
    "    point_cloud.points = o3d.utility.Vector3dVector(points)\n",
    "    point_cloud.colors = o3d.utility.Vector3dVector(colors)\n",
    "\n",
    "    # Create mesh\n",
    "    distances = point_cloud.compute_nearest_neighbor_distance()\n",
    "    avg_dist = np.mean(distances)\n",
    "    radius = 3 * avg_dist\n",
    "\n",
    "    mesh = o3d.geometry.TriangleMesh.create_from_point_cloud_ball_pivoting(\n",
    "        point_cloud, o3d.utility.DoubleVector([radius, radius * 2])\n",
    "    )\n",
    "\n",
    "    mesh.compute_vertex_normals()\n",
    "\n",
    "    return mesh\n",
    "\n",
    "# Create 3D mesh\n",
    "mesh = create_mesh_from_depth_map(\"depth_map.png\", \"sun_temple.png\")\n",
    "o3d.io.write_triangle_mesh(\"sun_temple_3d.ply\", mesh)"
   ]
  },
  {
   "cell_type": "code",
   "execution_count": null,
   "metadata": {
    "id": "sytJE1lagyqp"
   },
   "outputs": [],
   "source": [
    "pip install open3d\n"
   ]
  },
  {
   "cell_type": "code",
   "execution_count": null,
   "metadata": {
    "id": "WfmfYgtXg1MD"
   },
   "outputs": [],
   "source": [
    "import open3d as o3d\n",
    "\n",
    "# Load the 3D mesh from the .ply file\n",
    "mesh = o3d.io.read_triangle_mesh(\"sun_temple_3d.ply\")\n",
    "\n",
    "# Visualize the 3D mesh\n",
    "o3d.visualization.draw_geometries([mesh])"
   ]
  }
 ],
 "metadata": {
  "colab": {
   "authorship_tag": "ABX9TyMD0yFoeOwzxpnnvIFNAs0w",
   "include_colab_link": true,
   "provenance": []
  },
  "kernelspec": {
   "display_name": "Python 3 (ipykernel)",
   "language": "python",
   "name": "python3"
  },
  "language_info": {
   "codemirror_mode": {
    "name": "ipython",
    "version": 3
   },
   "file_extension": ".py",
   "mimetype": "text/x-python",
   "name": "python",
   "nbconvert_exporter": "python",
   "pygments_lexer": "ipython3",
   "version": "3.10.9"
  }
 },
 "nbformat": 4,
 "nbformat_minor": 1
}
