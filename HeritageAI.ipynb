{
  "nbformat": 4,
  "nbformat_minor": 0,
  "metadata": {
    "colab": {
      "provenance": [],
      "include_colab_link": true
    },
    "kernelspec": {
      "name": "python3",
      "display_name": "Python 3"
    },
    "language_info": {
      "name": "python"
    }
  },
  "cells": [
    {
      "cell_type": "markdown",
      "metadata": {
        "id": "view-in-github",
        "colab_type": "text"
      },
      "source": [
        "<a href=\"https://colab.research.google.com/github/NandithaSHadligere/CulturalHeritage/blob/main/HeritageAI.ipynb\" target=\"_parent\"><img src=\"https://colab.research.google.com/assets/colab-badge.svg\" alt=\"Open In Colab\"/></a>"
      ]
    },
    {
      "cell_type": "code",
      "execution_count": null,
      "metadata": {
        "id": "B3T1_OeLgVZj"
      },
      "outputs": [],
      "source": [
        "import torch\n",
        "from diffusers import StableDiffusionPipeline\n",
        "from IPython.display import display  # To display images in Jupyter Notebook\n",
        "\n",
        "# Load the pre-trained Stable Diffusion model\n",
        "model_id = \"CompVis/stable-diffusion-v1-4\"\n",
        "pipe = StableDiffusionPipeline.from_pretrained(model_id, torch_dtype=torch.float16)\n",
        "\n",
        "# Use GPU if available\n",
        "device = \"cuda\" if torch.cuda.is_available() else \"cpu\"\n",
        "pipe = pipe.to(device)\n",
        "\n",
        "# Function to generate an image\n",
        "def generate_image(prompt, num_inference_steps=50, guidance_scale=7.5):\n",
        "    with torch.no_grad():\n",
        "        image = pipe(prompt, num_inference_steps=num_inference_steps, guidance_scale=guidance_scale).images[0]\n",
        "    return image\n",
        "\n",
        "# Example usage\n",
        "prompt = \"Konark temple\"\n",
        "image = generate_image(prompt)\n",
        "\n",
        "# Display the image in Jupyter Notebook\n",
        "display(image)\n",
        "\n",
        "# Save the generated image\n",
        "image.save(\"sun_temple.png\")\n"
      ]
    },
    {
      "cell_type": "markdown",
      "source": [
        "Step 1: Generate Depth Map"
      ],
      "metadata": {
        "id": "KNI5LuS8g6TP"
      }
    },
    {
      "cell_type": "code",
      "source": [
        "import torch\n",
        "import cv2\n",
        "import numpy as np\n",
        "from torchvision.transforms import Compose, Resize, ToTensor, Normalize\n",
        "\n",
        "# Load MiDaS model\n",
        "midas_model = torch.hub.load(\"intel-isl/MiDaS\", \"MiDaS_small\")\n",
        "midas_model.eval()\n",
        "midas_model.to(\"cuda\")\n",
        "\n",
        "# Load transforms to prepare the image for the model\n",
        "transform = Compose([\n",
        "    Resize(384),\n",
        "    ToTensor(),\n",
        "    Normalize(mean=[0.485, 0.456, 0.406], std=[0.229, 0.224, 0.225]),\n",
        "])\n",
        "\n",
        "def estimate_depth(image_path):\n",
        "    img = cv2.imread(image_path)\n",
        "    img = cv2.cvtColor(img, cv2.COLOR_BGR2RGB)\n",
        "    img_input = transform(img).unsqueeze(0).to(\"cuda\")\n",
        "\n",
        "    with torch.no_grad():\n",
        "        depth = midas_model(img_input)\n",
        "        depth = depth.squeeze().cpu().numpy()\n",
        "\n",
        "    depth_min = depth.min()\n",
        "    depth_max = depth.max()\n",
        "    depth_normalized = (depth - depth_min) / (depth_max - depth_min)\n",
        "\n",
        "    return depth_normalized\n",
        "\n",
        "# Estimate depth\n",
        "depth_map = estimate_depth(\"sun_temple.png\")\n",
        "cv2.imwrite(\"depth_map.png\", depth_map * 255)"
      ],
      "metadata": {
        "id": "I71S2RmHgj51"
      },
      "execution_count": null,
      "outputs": []
    },
    {
      "cell_type": "markdown",
      "source": [
        "Step 2: Create 3D Mesh"
      ],
      "metadata": {
        "id": "Vjvhooq3g9G6"
      }
    },
    {
      "cell_type": "code",
      "source": [
        "import open3d as o3d\n",
        "import numpy as np\n",
        "\n",
        "def create_mesh_from_depth_map(depth_map_path, image_path):\n",
        "    depth_map = cv2.imread(depth_map_path, cv2.IMREAD_GRAYSCALE)\n",
        "    image = cv2.imread(image_path)\n",
        "\n",
        "    h, w = depth_map.shape\n",
        "    fx = fy = 1.0\n",
        "    cx, cy = w / 2, h / 2\n",
        "\n",
        "    # Create point cloud\n",
        "    points = []\n",
        "    colors = []\n",
        "    for v in range(h):\n",
        "        for u in range(w):\n",
        "            z = depth_map[v, u] / 255.0\n",
        "            if z > 0:\n",
        "                x = (u - cx) * z / fx\n",
        "                y = (v - cy) * z / fy\n",
        "                points.append([x, y, z])\n",
        "                colors.append(image[v, u] / 255.0)\n",
        "\n",
        "    points = np.array(points)\n",
        "    colors = np.array(colors)\n",
        "\n",
        "    point_cloud = o3d.geometry.PointCloud()\n",
        "    point_cloud.points = o3d.utility.Vector3dVector(points)\n",
        "    point_cloud.colors = o3d.utility.Vector3dVector(colors)\n",
        "\n",
        "    # Create mesh\n",
        "    distances = point_cloud.compute_nearest_neighbor_distance()\n",
        "    avg_dist = np.mean(distances)\n",
        "    radius = 3 * avg_dist\n",
        "\n",
        "    mesh = o3d.geometry.TriangleMesh.create_from_point_cloud_ball_pivoting(\n",
        "        point_cloud, o3d.utility.DoubleVector([radius, radius * 2])\n",
        "    )\n",
        "\n",
        "    mesh.compute_vertex_normals()\n",
        "\n",
        "    return mesh\n",
        "\n",
        "# Create 3D mesh\n",
        "mesh = create_mesh_from_depth_map(\"depth_map.png\", \"sun_temple.png\")\n",
        "o3d.io.write_triangle_mesh(\"sun_temple_3d.ply\", mesh)"
      ],
      "metadata": {
        "id": "otFswaXLgnm_"
      },
      "execution_count": null,
      "outputs": []
    },
    {
      "cell_type": "code",
      "source": [
        "pip install open3d\n"
      ],
      "metadata": {
        "id": "sytJE1lagyqp"
      },
      "execution_count": null,
      "outputs": []
    },
    {
      "cell_type": "code",
      "source": [
        "import open3d as o3d\n",
        "\n",
        "# Load the 3D mesh from the .ply file\n",
        "mesh = o3d.io.read_triangle_mesh(\"sun_temple_3d.ply\")\n",
        "\n",
        "# Visualize the 3D mesh\n",
        "o3d.visualization.draw_geometries([mesh])"
      ],
      "metadata": {
        "id": "WfmfYgtXg1MD"
      },
      "execution_count": null,
      "outputs": []
    }
  ]
}